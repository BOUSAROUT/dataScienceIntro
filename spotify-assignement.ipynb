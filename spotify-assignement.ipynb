{
 "cells": [
  {
   "cell_type": "markdown",
   "metadata": {},
   "source": [
    "# Setup 💻"
   ]
  },
  {
   "cell_type": "markdown",
   "metadata": {},
   "source": [
    "## 1. Importing Libraries"
   ]
  },
  {
   "cell_type": "code",
   "execution_count": 3,
   "metadata": {
    "ExecuteTime": {
     "end_time": "2020-09-27T18:10:59.565886Z",
     "start_time": "2020-09-27T18:10:58.349400Z"
    }
   },
   "outputs": [],
   "source": [
    "import pandas as pd\n",
    "import numpy as np\n",
    "import matplotlib.pyplot as plt\n",
    "import seaborn as sns"
   ]
  },
  {
   "cell_type": "markdown",
   "metadata": {
    "ExecuteTime": {
     "end_time": "2020-09-27T18:10:59.695147Z",
     "start_time": "2020-09-27T18:10:59.567829Z"
    }
   },
   "source": [
    "## 2. Loading Spotify dataset"
   ]
  },
  {
   "cell_type": "code",
   "execution_count": 5,
   "metadata": {
    "ExecuteTime": {
     "end_time": "2020-09-27T18:11:00.172221Z",
     "start_time": "2020-09-27T18:10:59.699946Z"
    }
   },
   "outputs": [],
   "source": [
    "df = pd.read_csv('https://storage.googleapis.com/introduction-to-data-science/spotify-dataset.csv',index_col=0)"
   ]
  },
  {
   "cell_type": "markdown",
   "metadata": {},
   "source": [
    "----------"
   ]
  },
  {
   "cell_type": "markdown",
   "metadata": {},
   "source": [
    "# Your Assignement starts here 🔥👇"
   ]
  },
  {
   "cell_type": "markdown",
   "metadata": {},
   "source": [
    "## 1. Can you display the first 10 row of the dataset? "
   ]
  },
  {
   "cell_type": "code",
   "execution_count": null,
   "metadata": {},
   "outputs": [],
   "source": [
    "# Your code goes here 💪"
   ]
  },
  {
   "cell_type": "code",
   "execution_count": 6,
   "metadata": {
    "ExecuteTime": {
     "end_time": "2020-09-27T18:11:00.202346Z",
     "start_time": "2020-09-27T18:11:00.174733Z"
    }
   },
   "outputs": [
    {
     "data": {
      "text/html": [
       "<div>\n",
       "<style scoped>\n",
       "    .dataframe tbody tr th:only-of-type {\n",
       "        vertical-align: middle;\n",
       "    }\n",
       "\n",
       "    .dataframe tbody tr th {\n",
       "        vertical-align: top;\n",
       "    }\n",
       "\n",
       "    .dataframe thead th {\n",
       "        text-align: right;\n",
       "    }\n",
       "</style>\n",
       "<table border=\"1\" class=\"dataframe\">\n",
       "  <thead>\n",
       "    <tr style=\"text-align: right;\">\n",
       "      <th></th>\n",
       "      <th>artists</th>\n",
       "      <th>danceability</th>\n",
       "      <th>duration_ms</th>\n",
       "      <th>energy</th>\n",
       "      <th>explicit</th>\n",
       "      <th>id</th>\n",
       "      <th>instrumentalness</th>\n",
       "      <th>key</th>\n",
       "      <th>liveness</th>\n",
       "      <th>loudness</th>\n",
       "      <th>mode</th>\n",
       "      <th>name</th>\n",
       "      <th>popularity</th>\n",
       "      <th>release_date</th>\n",
       "      <th>speechiness</th>\n",
       "      <th>tempo</th>\n",
       "      <th>valence</th>\n",
       "      <th>year</th>\n",
       "    </tr>\n",
       "    <tr>\n",
       "      <th>acousticness</th>\n",
       "      <th></th>\n",
       "      <th></th>\n",
       "      <th></th>\n",
       "      <th></th>\n",
       "      <th></th>\n",
       "      <th></th>\n",
       "      <th></th>\n",
       "      <th></th>\n",
       "      <th></th>\n",
       "      <th></th>\n",
       "      <th></th>\n",
       "      <th></th>\n",
       "      <th></th>\n",
       "      <th></th>\n",
       "      <th></th>\n",
       "      <th></th>\n",
       "      <th></th>\n",
       "      <th></th>\n",
       "    </tr>\n",
       "  </thead>\n",
       "  <tbody>\n",
       "    <tr>\n",
       "      <th>0.995</th>\n",
       "      <td>['Carl Woitschach']</td>\n",
       "      <td>0.708</td>\n",
       "      <td>158648</td>\n",
       "      <td>0.1950</td>\n",
       "      <td>0</td>\n",
       "      <td>6KbQ3uYMLKb5jDxLF7wYDD</td>\n",
       "      <td>0.563</td>\n",
       "      <td>10</td>\n",
       "      <td>0.1510</td>\n",
       "      <td>-12.428</td>\n",
       "      <td>1</td>\n",
       "      <td>Singende Bataillone 1. Teil</td>\n",
       "      <td>0</td>\n",
       "      <td>1928</td>\n",
       "      <td>0.0506</td>\n",
       "      <td>118.469</td>\n",
       "      <td>0.7790</td>\n",
       "      <td>1928</td>\n",
       "    </tr>\n",
       "    <tr>\n",
       "      <th>0.994</th>\n",
       "      <td>['Robert Schumann', 'Vladimir Horowitz']</td>\n",
       "      <td>0.379</td>\n",
       "      <td>282133</td>\n",
       "      <td>0.0135</td>\n",
       "      <td>0</td>\n",
       "      <td>6KuQTIu1KoTTkLXKrwlLPV</td>\n",
       "      <td>0.901</td>\n",
       "      <td>8</td>\n",
       "      <td>0.0763</td>\n",
       "      <td>-28.454</td>\n",
       "      <td>1</td>\n",
       "      <td>Fantasiestücke, Op. 111: Più tosto lento</td>\n",
       "      <td>0</td>\n",
       "      <td>1928</td>\n",
       "      <td>0.0462</td>\n",
       "      <td>83.972</td>\n",
       "      <td>0.0767</td>\n",
       "      <td>1928</td>\n",
       "    </tr>\n",
       "    <tr>\n",
       "      <th>0.604</th>\n",
       "      <td>['Seweryn Goszczyński']</td>\n",
       "      <td>0.749</td>\n",
       "      <td>104300</td>\n",
       "      <td>0.2200</td>\n",
       "      <td>0</td>\n",
       "      <td>6L63VW0PibdM1HDSBoqnoM</td>\n",
       "      <td>0.000</td>\n",
       "      <td>5</td>\n",
       "      <td>0.1190</td>\n",
       "      <td>-19.924</td>\n",
       "      <td>0</td>\n",
       "      <td>Chapter 1.18 - Zamek kaniowski</td>\n",
       "      <td>0</td>\n",
       "      <td>1928</td>\n",
       "      <td>0.9290</td>\n",
       "      <td>107.177</td>\n",
       "      <td>0.8800</td>\n",
       "      <td>1928</td>\n",
       "    </tr>\n",
       "    <tr>\n",
       "      <th>0.995</th>\n",
       "      <td>['Francisco Canaro']</td>\n",
       "      <td>0.781</td>\n",
       "      <td>180760</td>\n",
       "      <td>0.1300</td>\n",
       "      <td>0</td>\n",
       "      <td>6M94FkXd15sOAOQYRnWPN8</td>\n",
       "      <td>0.887</td>\n",
       "      <td>1</td>\n",
       "      <td>0.1110</td>\n",
       "      <td>-14.734</td>\n",
       "      <td>0</td>\n",
       "      <td>Bebamos Juntos - Instrumental (Remasterizado)</td>\n",
       "      <td>0</td>\n",
       "      <td>1928-09-25</td>\n",
       "      <td>0.0926</td>\n",
       "      <td>108.003</td>\n",
       "      <td>0.7200</td>\n",
       "      <td>1928</td>\n",
       "    </tr>\n",
       "    <tr>\n",
       "      <th>0.990</th>\n",
       "      <td>['Frédéric Chopin', 'Vladimir Horowitz']</td>\n",
       "      <td>0.210</td>\n",
       "      <td>687733</td>\n",
       "      <td>0.2040</td>\n",
       "      <td>0</td>\n",
       "      <td>6N6tiFZ9vLTSOIxkj8qKrd</td>\n",
       "      <td>0.908</td>\n",
       "      <td>11</td>\n",
       "      <td>0.0980</td>\n",
       "      <td>-16.829</td>\n",
       "      <td>1</td>\n",
       "      <td>Polonaise-Fantaisie in A-Flat Major, Op. 61</td>\n",
       "      <td>1</td>\n",
       "      <td>1928</td>\n",
       "      <td>0.0424</td>\n",
       "      <td>62.149</td>\n",
       "      <td>0.0693</td>\n",
       "      <td>1928</td>\n",
       "    </tr>\n",
       "    <tr>\n",
       "      <th>0.995</th>\n",
       "      <td>['Felix Mendelssohn', 'Vladimir Horowitz']</td>\n",
       "      <td>0.424</td>\n",
       "      <td>352600</td>\n",
       "      <td>0.1200</td>\n",
       "      <td>0</td>\n",
       "      <td>6NxAf7M8DNHOBTmEd3JSO5</td>\n",
       "      <td>0.911</td>\n",
       "      <td>6</td>\n",
       "      <td>0.0915</td>\n",
       "      <td>-19.242</td>\n",
       "      <td>0</td>\n",
       "      <td>Scherzo a capriccio: Presto</td>\n",
       "      <td>0</td>\n",
       "      <td>1928</td>\n",
       "      <td>0.0593</td>\n",
       "      <td>63.521</td>\n",
       "      <td>0.2660</td>\n",
       "      <td>1928</td>\n",
       "    </tr>\n",
       "    <tr>\n",
       "      <th>0.956</th>\n",
       "      <td>['Franz Liszt', 'Vladimir Horowitz']</td>\n",
       "      <td>0.444</td>\n",
       "      <td>136627</td>\n",
       "      <td>0.1970</td>\n",
       "      <td>0</td>\n",
       "      <td>6O0puPuyrxPjDTHDUgsWI7</td>\n",
       "      <td>0.435</td>\n",
       "      <td>11</td>\n",
       "      <td>0.0744</td>\n",
       "      <td>-17.226</td>\n",
       "      <td>1</td>\n",
       "      <td>Valse oubliée No. 1 in F-Sharp Major, S. 215/1</td>\n",
       "      <td>0</td>\n",
       "      <td>1928</td>\n",
       "      <td>0.0400</td>\n",
       "      <td>80.495</td>\n",
       "      <td>0.3050</td>\n",
       "      <td>1928</td>\n",
       "    </tr>\n",
       "    <tr>\n",
       "      <th>0.988</th>\n",
       "      <td>['Carl Woitschach']</td>\n",
       "      <td>0.555</td>\n",
       "      <td>153967</td>\n",
       "      <td>0.4210</td>\n",
       "      <td>0</td>\n",
       "      <td>6OJjveoYwJdIt76y0Pxpxw</td>\n",
       "      <td>0.836</td>\n",
       "      <td>1</td>\n",
       "      <td>0.1050</td>\n",
       "      <td>-9.878</td>\n",
       "      <td>1</td>\n",
       "      <td>Per aspera ad astra</td>\n",
       "      <td>0</td>\n",
       "      <td>1928</td>\n",
       "      <td>0.0474</td>\n",
       "      <td>123.310</td>\n",
       "      <td>0.8570</td>\n",
       "      <td>1928</td>\n",
       "    </tr>\n",
       "    <tr>\n",
       "      <th>0.995</th>\n",
       "      <td>['Francisco Canaro', 'Charlo']</td>\n",
       "      <td>0.683</td>\n",
       "      <td>162493</td>\n",
       "      <td>0.2070</td>\n",
       "      <td>0</td>\n",
       "      <td>6OaJ8Bh7lsBeYoBmwmo2nh</td>\n",
       "      <td>0.206</td>\n",
       "      <td>9</td>\n",
       "      <td>0.3370</td>\n",
       "      <td>-9.801</td>\n",
       "      <td>0</td>\n",
       "      <td>Moneda Corriente - Remasterizado</td>\n",
       "      <td>0</td>\n",
       "      <td>1928-10-03</td>\n",
       "      <td>0.1270</td>\n",
       "      <td>119.833</td>\n",
       "      <td>0.4930</td>\n",
       "      <td>1928</td>\n",
       "    </tr>\n",
       "    <tr>\n",
       "      <th>0.846</th>\n",
       "      <td>['Seweryn Goszczyński']</td>\n",
       "      <td>0.674</td>\n",
       "      <td>111600</td>\n",
       "      <td>0.2050</td>\n",
       "      <td>0</td>\n",
       "      <td>6PrZexNb16cabXR8Q418Xc</td>\n",
       "      <td>0.000</td>\n",
       "      <td>9</td>\n",
       "      <td>0.1700</td>\n",
       "      <td>-20.119</td>\n",
       "      <td>1</td>\n",
       "      <td>Chapter 1.3 - Zamek kaniowski</td>\n",
       "      <td>0</td>\n",
       "      <td>1928</td>\n",
       "      <td>0.9540</td>\n",
       "      <td>81.249</td>\n",
       "      <td>0.7590</td>\n",
       "      <td>1928</td>\n",
       "    </tr>\n",
       "  </tbody>\n",
       "</table>\n",
       "</div>"
      ],
      "text/plain": [
       "                                                 artists  danceability  \\\n",
       "acousticness                                                             \n",
       "0.995                                ['Carl Woitschach']         0.708   \n",
       "0.994           ['Robert Schumann', 'Vladimir Horowitz']         0.379   \n",
       "0.604                            ['Seweryn Goszczyński']         0.749   \n",
       "0.995                               ['Francisco Canaro']         0.781   \n",
       "0.990           ['Frédéric Chopin', 'Vladimir Horowitz']         0.210   \n",
       "0.995         ['Felix Mendelssohn', 'Vladimir Horowitz']         0.424   \n",
       "0.956               ['Franz Liszt', 'Vladimir Horowitz']         0.444   \n",
       "0.988                                ['Carl Woitschach']         0.555   \n",
       "0.995                     ['Francisco Canaro', 'Charlo']         0.683   \n",
       "0.846                            ['Seweryn Goszczyński']         0.674   \n",
       "\n",
       "              duration_ms  energy  explicit                      id  \\\n",
       "acousticness                                                          \n",
       "0.995              158648  0.1950         0  6KbQ3uYMLKb5jDxLF7wYDD   \n",
       "0.994              282133  0.0135         0  6KuQTIu1KoTTkLXKrwlLPV   \n",
       "0.604              104300  0.2200         0  6L63VW0PibdM1HDSBoqnoM   \n",
       "0.995              180760  0.1300         0  6M94FkXd15sOAOQYRnWPN8   \n",
       "0.990              687733  0.2040         0  6N6tiFZ9vLTSOIxkj8qKrd   \n",
       "0.995              352600  0.1200         0  6NxAf7M8DNHOBTmEd3JSO5   \n",
       "0.956              136627  0.1970         0  6O0puPuyrxPjDTHDUgsWI7   \n",
       "0.988              153967  0.4210         0  6OJjveoYwJdIt76y0Pxpxw   \n",
       "0.995              162493  0.2070         0  6OaJ8Bh7lsBeYoBmwmo2nh   \n",
       "0.846              111600  0.2050         0  6PrZexNb16cabXR8Q418Xc   \n",
       "\n",
       "              instrumentalness  key  liveness  loudness  mode  \\\n",
       "acousticness                                                    \n",
       "0.995                    0.563   10    0.1510   -12.428     1   \n",
       "0.994                    0.901    8    0.0763   -28.454     1   \n",
       "0.604                    0.000    5    0.1190   -19.924     0   \n",
       "0.995                    0.887    1    0.1110   -14.734     0   \n",
       "0.990                    0.908   11    0.0980   -16.829     1   \n",
       "0.995                    0.911    6    0.0915   -19.242     0   \n",
       "0.956                    0.435   11    0.0744   -17.226     1   \n",
       "0.988                    0.836    1    0.1050    -9.878     1   \n",
       "0.995                    0.206    9    0.3370    -9.801     0   \n",
       "0.846                    0.000    9    0.1700   -20.119     1   \n",
       "\n",
       "                                                        name  popularity  \\\n",
       "acousticness                                                               \n",
       "0.995                            Singende Bataillone 1. Teil           0   \n",
       "0.994               Fantasiestücke, Op. 111: Più tosto lento           0   \n",
       "0.604                         Chapter 1.18 - Zamek kaniowski           0   \n",
       "0.995          Bebamos Juntos - Instrumental (Remasterizado)           0   \n",
       "0.990            Polonaise-Fantaisie in A-Flat Major, Op. 61           1   \n",
       "0.995                            Scherzo a capriccio: Presto           0   \n",
       "0.956         Valse oubliée No. 1 in F-Sharp Major, S. 215/1           0   \n",
       "0.988                                    Per aspera ad astra           0   \n",
       "0.995                       Moneda Corriente - Remasterizado           0   \n",
       "0.846                          Chapter 1.3 - Zamek kaniowski           0   \n",
       "\n",
       "             release_date  speechiness    tempo  valence  year  \n",
       "acousticness                                                    \n",
       "0.995                1928       0.0506  118.469   0.7790  1928  \n",
       "0.994                1928       0.0462   83.972   0.0767  1928  \n",
       "0.604                1928       0.9290  107.177   0.8800  1928  \n",
       "0.995          1928-09-25       0.0926  108.003   0.7200  1928  \n",
       "0.990                1928       0.0424   62.149   0.0693  1928  \n",
       "0.995                1928       0.0593   63.521   0.2660  1928  \n",
       "0.956                1928       0.0400   80.495   0.3050  1928  \n",
       "0.988                1928       0.0474  123.310   0.8570  1928  \n",
       "0.995          1928-10-03       0.1270  119.833   0.4930  1928  \n",
       "0.846                1928       0.9540   81.249   0.7590  1928  "
      ]
     },
     "execution_count": 6,
     "metadata": {},
     "output_type": "execute_result"
    }
   ],
   "source": [
    "df.head(10)"
   ]
  },
  {
   "cell_type": "markdown",
   "metadata": {
    "ExecuteTime": {
     "end_time": "2020-09-27T15:37:53.023017Z",
     "start_time": "2020-09-27T15:37:53.019512Z"
    }
   },
   "source": [
    "## 2. Are there any missing values in the dataset?"
   ]
  },
  {
   "cell_type": "code",
   "execution_count": null,
   "metadata": {},
   "outputs": [],
   "source": [
    "# Your code goes here 💪"
   ]
  },
  {
   "cell_type": "code",
   "execution_count": 7,
   "metadata": {
    "ExecuteTime": {
     "end_time": "2020-09-27T18:11:00.235751Z",
     "start_time": "2020-09-27T18:11:00.204491Z"
    }
   },
   "outputs": [
    {
     "data": {
      "text/plain": [
       "artists             0\n",
       "danceability        0\n",
       "duration_ms         0\n",
       "energy              0\n",
       "explicit            0\n",
       "id                  0\n",
       "instrumentalness    0\n",
       "key                 0\n",
       "liveness            0\n",
       "loudness            0\n",
       "mode                0\n",
       "name                0\n",
       "popularity          0\n",
       "release_date        0\n",
       "speechiness         0\n",
       "tempo               0\n",
       "valence             0\n",
       "year                0\n",
       "dtype: int64"
      ]
     },
     "execution_count": 7,
     "metadata": {},
     "output_type": "execute_result"
    }
   ],
   "source": [
    "df.isna().sum()"
   ]
  },
  {
   "cell_type": "markdown",
   "metadata": {
    "ExecuteTime": {
     "end_time": "2020-09-27T15:38:37.540621Z",
     "start_time": "2020-09-27T15:38:37.536934Z"
    }
   },
   "source": [
    "## 3. How many songs are there in the dataset?"
   ]
  },
  {
   "cell_type": "code",
   "execution_count": null,
   "metadata": {},
   "outputs": [],
   "source": [
    "# Your code goes here 💪"
   ]
  },
  {
   "cell_type": "code",
   "execution_count": 8,
   "metadata": {
    "ExecuteTime": {
     "end_time": "2020-09-27T18:11:00.242923Z",
     "start_time": "2020-09-27T18:11:00.238475Z"
    }
   },
   "outputs": [
    {
     "data": {
      "text/plain": [
       "(169909, 18)"
      ]
     },
     "execution_count": 8,
     "metadata": {},
     "output_type": "execute_result"
    }
   ],
   "source": [
    "df.shape"
   ]
  },
  {
   "cell_type": "markdown",
   "metadata": {},
   "source": [
    "## 4. How many artists?"
   ]
  },
  {
   "cell_type": "code",
   "execution_count": null,
   "metadata": {},
   "outputs": [],
   "source": [
    "# Your code goes here 💪"
   ]
  },
  {
   "cell_type": "code",
   "execution_count": 9,
   "metadata": {
    "ExecuteTime": {
     "end_time": "2020-09-27T18:11:00.269009Z",
     "start_time": "2020-09-27T18:11:00.244761Z"
    }
   },
   "outputs": [
    {
     "data": {
      "text/plain": [
       "33375"
      ]
     },
     "execution_count": 9,
     "metadata": {},
     "output_type": "execute_result"
    }
   ],
   "source": [
    "len(df[\"artists\"].unique())"
   ]
  },
  {
   "cell_type": "markdown",
   "metadata": {},
   "source": [
    "## 5. What's the average duration of a song, in minutes?"
   ]
  },
  {
   "cell_type": "code",
   "execution_count": null,
   "metadata": {},
   "outputs": [],
   "source": [
    "# Your code goes here 💪"
   ]
  },
  {
   "cell_type": "code",
   "execution_count": 10,
   "metadata": {
    "ExecuteTime": {
     "end_time": "2020-09-27T18:11:00.279367Z",
     "start_time": "2020-09-27T18:11:00.273968Z"
    }
   },
   "outputs": [
    {
     "data": {
      "text/plain": [
       "3.856769316222213"
      ]
     },
     "execution_count": 10,
     "metadata": {},
     "output_type": "execute_result"
    }
   ],
   "source": [
    "df[\"duration_ms\"].mean() / (1000 * 60)"
   ]
  },
  {
   "cell_type": "markdown",
   "metadata": {},
   "source": [
    "## 6. Can you plot the distribution of the durations?"
   ]
  },
  {
   "cell_type": "code",
   "execution_count": null,
   "metadata": {},
   "outputs": [],
   "source": [
    "# Your code goes here 💪"
   ]
  },
  {
   "cell_type": "code",
   "execution_count": 11,
   "metadata": {
    "ExecuteTime": {
     "end_time": "2020-09-27T18:11:00.541024Z",
     "start_time": "2020-09-27T18:11:00.282422Z"
    }
   },
   "outputs": [
    {
     "data": {
      "text/plain": [
       "<matplotlib.axes._subplots.AxesSubplot at 0x127b71dd0>"
      ]
     },
     "execution_count": 11,
     "metadata": {},
     "output_type": "execute_result"
    },
    {
     "data": {
      "image/png": "[encoded data removed]",
      "text/plain": [
       "<Figure size 432x288 with 1 Axes>"
      ]
     },
     "metadata": {
      "needs_background": "light"
     },
     "output_type": "display_data"
    }
   ],
   "source": [
    "sns.distplot(df[\"duration_ms\"])"
   ]
  },
  {
   "cell_type": "markdown",
   "metadata": {},
   "source": [
    "## 7. [Follow-up] Can you make this plot more readable by removing outliers (extreme values)?"
   ]
  },
  {
   "cell_type": "code",
   "execution_count": null,
   "metadata": {},
   "outputs": [],
   "source": [
    "# Your code goes here 💪"
   ]
  },
  {
   "cell_type": "code",
   "execution_count": 12,
   "metadata": {
    "ExecuteTime": {
     "end_time": "2020-09-27T18:11:00.547873Z",
     "start_time": "2020-09-27T18:11:00.542750Z"
    }
   },
   "outputs": [
    {
     "data": {
      "text/plain": [
       "(470, 18)"
      ]
     },
     "execution_count": 12,
     "metadata": {},
     "output_type": "execute_result"
    }
   ],
   "source": [
    "df[df[\"duration_ms\"] > 1_000_000].shape"
   ]
  },
  {
   "cell_type": "code",
   "execution_count": 13,
   "metadata": {
    "ExecuteTime": {
     "end_time": "2020-09-27T18:11:00.572740Z",
     "start_time": "2020-09-27T18:11:00.549504Z"
    }
   },
   "outputs": [],
   "source": [
    "tmp_df = df[df[\"duration_ms\"] <= 1_000_000]"
   ]
  },
  {
   "cell_type": "code",
   "execution_count": 14,
   "metadata": {
    "ExecuteTime": {
     "end_time": "2020-09-27T18:11:00.819948Z",
     "start_time": "2020-09-27T18:11:00.575912Z"
    }
   },
   "outputs": [
    {
     "data": {
      "text/plain": [
       "<matplotlib.axes._subplots.AxesSubplot at 0x127d3e910>"
      ]
     },
     "execution_count": 14,
     "metadata": {},
     "output_type": "execute_result"
    },
    {
     "data": {
      "image/png": "[encoded data removed]",
      "text/plain": [
       "<Figure size 432x288 with 1 Axes>"
      ]
     },
     "metadata": {
      "needs_background": "light"
     },
     "output_type": "display_data"
    }
   ],
   "source": [
    "sns.distplot(tmp_df[\"duration_ms\"])"
   ]
  },
  {
   "cell_type": "markdown",
   "metadata": {},
   "source": [
    "We only remove 470 songs (out of almost 170k) and get a way more interesting plot!"
   ]
  },
  {
   "cell_type": "markdown",
   "metadata": {},
   "source": [
    "## 8. What are the top 10 longest songs (duration)?"
   ]
  },
  {
   "cell_type": "code",
   "execution_count": null,
   "metadata": {},
   "outputs": [],
   "source": [
    "# Your code goes here 💪"
   ]
  },
  {
   "cell_type": "code",
   "execution_count": 15,
   "metadata": {
    "ExecuteTime": {
     "end_time": "2020-09-27T18:11:00.866114Z",
     "start_time": "2020-09-27T18:11:00.821665Z"
    }
   },
   "outputs": [
    {
     "data": {
      "text/html": [
       "<div>\n",
       "<style scoped>\n",
       "    .dataframe tbody tr th:only-of-type {\n",
       "        vertical-align: middle;\n",
       "    }\n",
       "\n",
       "    .dataframe tbody tr th {\n",
       "        vertical-align: top;\n",
       "    }\n",
       "\n",
       "    .dataframe thead th {\n",
       "        text-align: right;\n",
       "    }\n",
       "</style>\n",
       "<table border=\"1\" class=\"dataframe\">\n",
       "  <thead>\n",
       "    <tr style=\"text-align: right;\">\n",
       "      <th></th>\n",
       "      <th>artists</th>\n",
       "      <th>danceability</th>\n",
       "      <th>duration_ms</th>\n",
       "      <th>energy</th>\n",
       "      <th>explicit</th>\n",
       "      <th>id</th>\n",
       "      <th>instrumentalness</th>\n",
       "      <th>key</th>\n",
       "      <th>liveness</th>\n",
       "      <th>loudness</th>\n",
       "      <th>mode</th>\n",
       "      <th>name</th>\n",
       "      <th>popularity</th>\n",
       "      <th>release_date</th>\n",
       "      <th>speechiness</th>\n",
       "      <th>tempo</th>\n",
       "      <th>valence</th>\n",
       "      <th>year</th>\n",
       "    </tr>\n",
       "    <tr>\n",
       "      <th>acousticness</th>\n",
       "      <th></th>\n",
       "      <th></th>\n",
       "      <th></th>\n",
       "      <th></th>\n",
       "      <th></th>\n",
       "      <th></th>\n",
       "      <th></th>\n",
       "      <th></th>\n",
       "      <th></th>\n",
       "      <th></th>\n",
       "      <th></th>\n",
       "      <th></th>\n",
       "      <th></th>\n",
       "      <th></th>\n",
       "      <th></th>\n",
       "      <th></th>\n",
       "      <th></th>\n",
       "      <th></th>\n",
       "    </tr>\n",
       "  </thead>\n",
       "  <tbody>\n",
       "    <tr>\n",
       "      <th>0.111000</th>\n",
       "      <td>['Sound Dreamer']</td>\n",
       "      <td>0.0000</td>\n",
       "      <td>5403500</td>\n",
       "      <td>0.000099</td>\n",
       "      <td>0</td>\n",
       "      <td>7foc25ig7dibxvULPU2kBG</td>\n",
       "      <td>0.392000</td>\n",
       "      <td>2</td>\n",
       "      <td>0.1370</td>\n",
       "      <td>-21.669</td>\n",
       "      <td>1</td>\n",
       "      <td>Brown Noise - 90 Minutes</td>\n",
       "      <td>50</td>\n",
       "      <td>2013-06-05</td>\n",
       "      <td>0.0000</td>\n",
       "      <td>0.000</td>\n",
       "      <td>0.000000</td>\n",
       "      <td>2013</td>\n",
       "    </tr>\n",
       "    <tr>\n",
       "      <th>0.975000</th>\n",
       "      <td>['Sounds for Life']</td>\n",
       "      <td>0.1530</td>\n",
       "      <td>4270034</td>\n",
       "      <td>0.079200</td>\n",
       "      <td>0</td>\n",
       "      <td>605JTCltCe1IcqrGXQ294K</td>\n",
       "      <td>1.000000</td>\n",
       "      <td>10</td>\n",
       "      <td>0.1130</td>\n",
       "      <td>-23.962</td>\n",
       "      <td>0</td>\n",
       "      <td>Brown Noise for Sleep</td>\n",
       "      <td>42</td>\n",
       "      <td>2009-03-15</td>\n",
       "      <td>0.1250</td>\n",
       "      <td>132.904</td>\n",
       "      <td>0.000537</td>\n",
       "      <td>2009</td>\n",
       "    </tr>\n",
       "    <tr>\n",
       "      <th>0.000385</th>\n",
       "      <td>['Lightning, Thunder and Rain Storm']</td>\n",
       "      <td>0.1160</td>\n",
       "      <td>4269407</td>\n",
       "      <td>0.338000</td>\n",
       "      <td>0</td>\n",
       "      <td>7dYf0CsWHDLvlP6HJPs3zO</td>\n",
       "      <td>0.093500</td>\n",
       "      <td>1</td>\n",
       "      <td>0.3420</td>\n",
       "      <td>-36.638</td>\n",
       "      <td>1</td>\n",
       "      <td>Midnight Thunderstorm Part 2</td>\n",
       "      <td>44</td>\n",
       "      <td>2009-09-22</td>\n",
       "      <td>0.0648</td>\n",
       "      <td>94.453</td>\n",
       "      <td>0.029300</td>\n",
       "      <td>2009</td>\n",
       "    </tr>\n",
       "    <tr>\n",
       "      <th>0.932000</th>\n",
       "      <td>['Ocean Sounds']</td>\n",
       "      <td>0.0797</td>\n",
       "      <td>4120258</td>\n",
       "      <td>0.995000</td>\n",
       "      <td>0</td>\n",
       "      <td>2QfFLpSGF1T1pY6tq4kD7Z</td>\n",
       "      <td>0.562000</td>\n",
       "      <td>1</td>\n",
       "      <td>0.3100</td>\n",
       "      <td>-17.379</td>\n",
       "      <td>1</td>\n",
       "      <td>Ocean Waves Sounds</td>\n",
       "      <td>44</td>\n",
       "      <td>2010-07-16</td>\n",
       "      <td>0.0612</td>\n",
       "      <td>84.788</td>\n",
       "      <td>0.000010</td>\n",
       "      <td>2010</td>\n",
       "    </tr>\n",
       "    <tr>\n",
       "      <th>0.932000</th>\n",
       "      <td>['Ocean Waves For Sleep']</td>\n",
       "      <td>0.0797</td>\n",
       "      <td>4120258</td>\n",
       "      <td>0.995000</td>\n",
       "      <td>0</td>\n",
       "      <td>1saXdvEAafdRzUphXBzSHg</td>\n",
       "      <td>0.562000</td>\n",
       "      <td>1</td>\n",
       "      <td>0.3100</td>\n",
       "      <td>-17.379</td>\n",
       "      <td>1</td>\n",
       "      <td>Ocean Waves for Sleep</td>\n",
       "      <td>55</td>\n",
       "      <td>2010-07-16</td>\n",
       "      <td>0.0612</td>\n",
       "      <td>84.788</td>\n",
       "      <td>0.000010</td>\n",
       "      <td>2010</td>\n",
       "    </tr>\n",
       "    <tr>\n",
       "      <th>0.003670</th>\n",
       "      <td>['Sleep']</td>\n",
       "      <td>0.1600</td>\n",
       "      <td>3816373</td>\n",
       "      <td>0.572000</td>\n",
       "      <td>0</td>\n",
       "      <td>1vhvheW4R0KbK6Kr3NFplW</td>\n",
       "      <td>0.745000</td>\n",
       "      <td>5</td>\n",
       "      <td>0.0952</td>\n",
       "      <td>-6.949</td>\n",
       "      <td>1</td>\n",
       "      <td>Dopesmoker</td>\n",
       "      <td>43</td>\n",
       "      <td>2003</td>\n",
       "      <td>0.0321</td>\n",
       "      <td>96.926</td>\n",
       "      <td>0.093200</td>\n",
       "      <td>2003</td>\n",
       "    </tr>\n",
       "    <tr>\n",
       "      <th>0.976000</th>\n",
       "      <td>['Brian Eno']</td>\n",
       "      <td>0.0918</td>\n",
       "      <td>3650800</td>\n",
       "      <td>0.056900</td>\n",
       "      <td>0</td>\n",
       "      <td>4t3Yh6tKkxXrc458pNI7zZ</td>\n",
       "      <td>0.884000</td>\n",
       "      <td>0</td>\n",
       "      <td>0.0842</td>\n",
       "      <td>-31.808</td>\n",
       "      <td>1</td>\n",
       "      <td>Thursday Afternoon - 2005 Digital Remaster</td>\n",
       "      <td>39</td>\n",
       "      <td>1985-10-01</td>\n",
       "      <td>0.0358</td>\n",
       "      <td>81.944</td>\n",
       "      <td>0.052800</td>\n",
       "      <td>1985</td>\n",
       "    </tr>\n",
       "    <tr>\n",
       "      <th>0.601000</th>\n",
       "      <td>['Environments']</td>\n",
       "      <td>0.1590</td>\n",
       "      <td>3557955</td>\n",
       "      <td>0.562000</td>\n",
       "      <td>0</td>\n",
       "      <td>2rRuuVflvA23Fcl8KezNAF</td>\n",
       "      <td>0.611000</td>\n",
       "      <td>10</td>\n",
       "      <td>0.1070</td>\n",
       "      <td>-22.135</td>\n",
       "      <td>0</td>\n",
       "      <td>The Psychologically Ultimate Seashore (16 rpm)</td>\n",
       "      <td>19</td>\n",
       "      <td>1969-01-01</td>\n",
       "      <td>0.1600</td>\n",
       "      <td>129.863</td>\n",
       "      <td>0.012600</td>\n",
       "      <td>1969</td>\n",
       "    </tr>\n",
       "    <tr>\n",
       "      <th>0.900000</th>\n",
       "      <td>['Umm Kulthum']</td>\n",
       "      <td>0.4100</td>\n",
       "      <td>3551152</td>\n",
       "      <td>0.451000</td>\n",
       "      <td>0</td>\n",
       "      <td>0AsT5HMyXuqa8qWMLv0YZb</td>\n",
       "      <td>0.000034</td>\n",
       "      <td>8</td>\n",
       "      <td>0.7030</td>\n",
       "      <td>-10.213</td>\n",
       "      <td>0</td>\n",
       "      <td>Enta Oumry</td>\n",
       "      <td>26</td>\n",
       "      <td>1964-02-06</td>\n",
       "      <td>0.1260</td>\n",
       "      <td>118.125</td>\n",
       "      <td>0.408000</td>\n",
       "      <td>1964</td>\n",
       "    </tr>\n",
       "    <tr>\n",
       "      <th>0.891000</th>\n",
       "      <td>['Umm Kulthum']</td>\n",
       "      <td>0.3450</td>\n",
       "      <td>3523619</td>\n",
       "      <td>0.723000</td>\n",
       "      <td>0</td>\n",
       "      <td>1gXsu5iZHLpUr1zvXEfOxw</td>\n",
       "      <td>0.769000</td>\n",
       "      <td>9</td>\n",
       "      <td>0.3930</td>\n",
       "      <td>-7.801</td>\n",
       "      <td>1</td>\n",
       "      <td>Naheg El Berda</td>\n",
       "      <td>0</td>\n",
       "      <td>1946-01-01</td>\n",
       "      <td>0.0996</td>\n",
       "      <td>115.550</td>\n",
       "      <td>0.299000</td>\n",
       "      <td>1946</td>\n",
       "    </tr>\n",
       "  </tbody>\n",
       "</table>\n",
       "</div>"
      ],
      "text/plain": [
       "                                            artists  danceability  \\\n",
       "acousticness                                                        \n",
       "0.111000                          ['Sound Dreamer']        0.0000   \n",
       "0.975000                        ['Sounds for Life']        0.1530   \n",
       "0.000385      ['Lightning, Thunder and Rain Storm']        0.1160   \n",
       "0.932000                           ['Ocean Sounds']        0.0797   \n",
       "0.932000                  ['Ocean Waves For Sleep']        0.0797   \n",
       "0.003670                                  ['Sleep']        0.1600   \n",
       "0.976000                              ['Brian Eno']        0.0918   \n",
       "0.601000                           ['Environments']        0.1590   \n",
       "0.900000                            ['Umm Kulthum']        0.4100   \n",
       "0.891000                            ['Umm Kulthum']        0.3450   \n",
       "\n",
       "              duration_ms    energy  explicit                      id  \\\n",
       "acousticness                                                            \n",
       "0.111000          5403500  0.000099         0  7foc25ig7dibxvULPU2kBG   \n",
       "0.975000          4270034  0.079200         0  605JTCltCe1IcqrGXQ294K   \n",
       "0.000385          4269407  0.338000         0  7dYf0CsWHDLvlP6HJPs3zO   \n",
       "0.932000          4120258  0.995000         0  2QfFLpSGF1T1pY6tq4kD7Z   \n",
       "0.932000          4120258  0.995000         0  1saXdvEAafdRzUphXBzSHg   \n",
       "0.003670          3816373  0.572000         0  1vhvheW4R0KbK6Kr3NFplW   \n",
       "0.976000          3650800  0.056900         0  4t3Yh6tKkxXrc458pNI7zZ   \n",
       "0.601000          3557955  0.562000         0  2rRuuVflvA23Fcl8KezNAF   \n",
       "0.900000          3551152  0.451000         0  0AsT5HMyXuqa8qWMLv0YZb   \n",
       "0.891000          3523619  0.723000         0  1gXsu5iZHLpUr1zvXEfOxw   \n",
       "\n",
       "              instrumentalness  key  liveness  loudness  mode  \\\n",
       "acousticness                                                    \n",
       "0.111000              0.392000    2    0.1370   -21.669     1   \n",
       "0.975000              1.000000   10    0.1130   -23.962     0   \n",
       "0.000385              0.093500    1    0.3420   -36.638     1   \n",
       "0.932000              0.562000    1    0.3100   -17.379     1   \n",
       "0.932000              0.562000    1    0.3100   -17.379     1   \n",
       "0.003670              0.745000    5    0.0952    -6.949     1   \n",
       "0.976000              0.884000    0    0.0842   -31.808     1   \n",
       "0.601000              0.611000   10    0.1070   -22.135     0   \n",
       "0.900000              0.000034    8    0.7030   -10.213     0   \n",
       "0.891000              0.769000    9    0.3930    -7.801     1   \n",
       "\n",
       "                                                        name  popularity  \\\n",
       "acousticness                                                               \n",
       "0.111000                            Brown Noise - 90 Minutes          50   \n",
       "0.975000                               Brown Noise for Sleep          42   \n",
       "0.000385                        Midnight Thunderstorm Part 2          44   \n",
       "0.932000                                  Ocean Waves Sounds          44   \n",
       "0.932000                               Ocean Waves for Sleep          55   \n",
       "0.003670                                          Dopesmoker          43   \n",
       "0.976000          Thursday Afternoon - 2005 Digital Remaster          39   \n",
       "0.601000      The Psychologically Ultimate Seashore (16 rpm)          19   \n",
       "0.900000                                          Enta Oumry          26   \n",
       "0.891000                                      Naheg El Berda           0   \n",
       "\n",
       "             release_date  speechiness    tempo   valence  year  \n",
       "acousticness                                                     \n",
       "0.111000       2013-06-05       0.0000    0.000  0.000000  2013  \n",
       "0.975000       2009-03-15       0.1250  132.904  0.000537  2009  \n",
       "0.000385       2009-09-22       0.0648   94.453  0.029300  2009  \n",
       "0.932000       2010-07-16       0.0612   84.788  0.000010  2010  \n",
       "0.932000       2010-07-16       0.0612   84.788  0.000010  2010  \n",
       "0.003670             2003       0.0321   96.926  0.093200  2003  \n",
       "0.976000       1985-10-01       0.0358   81.944  0.052800  1985  \n",
       "0.601000       1969-01-01       0.1600  129.863  0.012600  1969  \n",
       "0.900000       1964-02-06       0.1260  118.125  0.408000  1964  \n",
       "0.891000       1946-01-01       0.0996  115.550  0.299000  1946  "
      ]
     },
     "execution_count": 15,
     "metadata": {},
     "output_type": "execute_result"
    }
   ],
   "source": [
    "df.nlargest(10, \"duration_ms\")"
   ]
  },
  {
   "cell_type": "markdown",
   "metadata": {},
   "source": [
    "## 9. How long would it take to listen to all the songs?"
   ]
  },
  {
   "cell_type": "code",
   "execution_count": null,
   "metadata": {},
   "outputs": [],
   "source": [
    "# Your code goes here 💪"
   ]
  },
  {
   "cell_type": "code",
   "execution_count": 16,
   "metadata": {
    "ExecuteTime": {
     "end_time": "2020-09-27T18:11:00.873494Z",
     "start_time": "2020-09-27T18:11:00.868705Z"
    }
   },
   "outputs": [
    {
     "data": {
      "text/plain": [
       "39317989065"
      ]
     },
     "execution_count": 16,
     "metadata": {},
     "output_type": "execute_result"
    }
   ],
   "source": [
    "df[\"duration_ms\"].sum()"
   ]
  },
  {
   "cell_type": "markdown",
   "metadata": {},
   "source": [
    "This length is expressed in milliseconds, let's convert to days!"
   ]
  },
  {
   "cell_type": "code",
   "execution_count": 17,
   "metadata": {
    "ExecuteTime": {
     "end_time": "2020-09-27T18:11:00.880865Z",
     "start_time": "2020-09-27T18:11:00.875861Z"
    }
   },
   "outputs": [
    {
     "data": {
      "text/plain": [
       "455.06931788194447"
      ]
     },
     "execution_count": 17,
     "metadata": {},
     "output_type": "execute_result"
    }
   ],
   "source": [
    "df[\"duration_ms\"].sum() / (1000 * 60 * 60 * 24)"
   ]
  },
  {
   "cell_type": "markdown",
   "metadata": {},
   "source": [
    "## 10. What are the top 10 most popular songs? We would like a DataFrame with only the columns `artists`, `name` and `popularity` as output!"
   ]
  },
  {
   "cell_type": "code",
   "execution_count": null,
   "metadata": {},
   "outputs": [],
   "source": [
    "# Your code goes here 💪"
   ]
  },
  {
   "cell_type": "code",
   "execution_count": 18,
   "metadata": {
    "ExecuteTime": {
     "end_time": "2020-09-27T18:11:00.903817Z",
     "start_time": "2020-09-27T18:11:00.882940Z"
    }
   },
   "outputs": [
    {
     "data": {
      "text/html": [
       "<div>\n",
       "<style scoped>\n",
       "    .dataframe tbody tr th:only-of-type {\n",
       "        vertical-align: middle;\n",
       "    }\n",
       "\n",
       "    .dataframe tbody tr th {\n",
       "        vertical-align: top;\n",
       "    }\n",
       "\n",
       "    .dataframe thead th {\n",
       "        text-align: right;\n",
       "    }\n",
       "</style>\n",
       "<table border=\"1\" class=\"dataframe\">\n",
       "  <thead>\n",
       "    <tr style=\"text-align: right;\">\n",
       "      <th></th>\n",
       "      <th>artists</th>\n",
       "      <th>name</th>\n",
       "      <th>popularity</th>\n",
       "    </tr>\n",
       "    <tr>\n",
       "      <th>acousticness</th>\n",
       "      <th></th>\n",
       "      <th></th>\n",
       "      <th></th>\n",
       "    </tr>\n",
       "  </thead>\n",
       "  <tbody>\n",
       "    <tr>\n",
       "      <th>0.00146</th>\n",
       "      <td>['The Weeknd']</td>\n",
       "      <td>Blinding Lights</td>\n",
       "      <td>100</td>\n",
       "    </tr>\n",
       "    <tr>\n",
       "      <th>0.24700</th>\n",
       "      <td>['DaBaby', 'Roddy Ricch']</td>\n",
       "      <td>ROCKSTAR (feat. Roddy Ricch)</td>\n",
       "      <td>99</td>\n",
       "    </tr>\n",
       "    <tr>\n",
       "      <th>0.73100</th>\n",
       "      <td>['Powfu', 'beabadoobee']</td>\n",
       "      <td>death bed (coffee for your head) (feat. beabad...</td>\n",
       "      <td>97</td>\n",
       "    </tr>\n",
       "    <tr>\n",
       "      <th>0.23300</th>\n",
       "      <td>['THE SCOTTS', 'Travis Scott', 'Kid Cudi']</td>\n",
       "      <td>THE SCOTTS</td>\n",
       "      <td>96</td>\n",
       "    </tr>\n",
       "    <tr>\n",
       "      <th>0.10400</th>\n",
       "      <td>['Roddy Ricch']</td>\n",
       "      <td>The Box</td>\n",
       "      <td>95</td>\n",
       "    </tr>\n",
       "    <tr>\n",
       "      <th>0.30500</th>\n",
       "      <td>['BENEE', 'Gus Dapperton']</td>\n",
       "      <td>Supalonely</td>\n",
       "      <td>95</td>\n",
       "    </tr>\n",
       "    <tr>\n",
       "      <th>0.06860</th>\n",
       "      <td>['Surf Mesa', 'Emilee']</td>\n",
       "      <td>ily (i love you baby) (feat. Emilee)</td>\n",
       "      <td>95</td>\n",
       "    </tr>\n",
       "    <tr>\n",
       "      <th>0.32100</th>\n",
       "      <td>['Drake']</td>\n",
       "      <td>Toosie Slide</td>\n",
       "      <td>95</td>\n",
       "    </tr>\n",
       "    <tr>\n",
       "      <th>0.69200</th>\n",
       "      <td>['Tones And I']</td>\n",
       "      <td>Dance Monkey</td>\n",
       "      <td>94</td>\n",
       "    </tr>\n",
       "    <tr>\n",
       "      <th>0.74900</th>\n",
       "      <td>['StaySolidRocky']</td>\n",
       "      <td>Party Girl</td>\n",
       "      <td>94</td>\n",
       "    </tr>\n",
       "  </tbody>\n",
       "</table>\n",
       "</div>"
      ],
      "text/plain": [
       "                                                 artists  \\\n",
       "acousticness                                               \n",
       "0.00146                                   ['The Weeknd']   \n",
       "0.24700                        ['DaBaby', 'Roddy Ricch']   \n",
       "0.73100                         ['Powfu', 'beabadoobee']   \n",
       "0.23300       ['THE SCOTTS', 'Travis Scott', 'Kid Cudi']   \n",
       "0.10400                                  ['Roddy Ricch']   \n",
       "0.30500                       ['BENEE', 'Gus Dapperton']   \n",
       "0.06860                          ['Surf Mesa', 'Emilee']   \n",
       "0.32100                                        ['Drake']   \n",
       "0.69200                                  ['Tones And I']   \n",
       "0.74900                               ['StaySolidRocky']   \n",
       "\n",
       "                                                           name  popularity  \n",
       "acousticness                                                                 \n",
       "0.00146                                         Blinding Lights         100  \n",
       "0.24700                            ROCKSTAR (feat. Roddy Ricch)          99  \n",
       "0.73100       death bed (coffee for your head) (feat. beabad...          97  \n",
       "0.23300                                              THE SCOTTS          96  \n",
       "0.10400                                                 The Box          95  \n",
       "0.30500                                              Supalonely          95  \n",
       "0.06860                    ily (i love you baby) (feat. Emilee)          95  \n",
       "0.32100                                            Toosie Slide          95  \n",
       "0.69200                                            Dance Monkey          94  \n",
       "0.74900                                              Party Girl          94  "
      ]
     },
     "execution_count": 18,
     "metadata": {},
     "output_type": "execute_result"
    }
   ],
   "source": [
    "df.nlargest(10, \"popularity\")[['artists', 'name', 'popularity']]"
   ]
  },
  {
   "cell_type": "markdown",
   "metadata": {},
   "source": [
    "## 11. What is the most popular song before 2000?"
   ]
  },
  {
   "cell_type": "code",
   "execution_count": null,
   "metadata": {},
   "outputs": [],
   "source": [
    "# Your code goes here 💪"
   ]
  },
  {
   "cell_type": "code",
   "execution_count": 19,
   "metadata": {
    "ExecuteTime": {
     "end_time": "2020-09-27T18:11:00.920486Z",
     "start_time": "2020-09-27T18:11:00.906448Z"
    }
   },
   "outputs": [],
   "source": [
    "twentys_century_df = df[df[\"year\"] < 2000]"
   ]
  },
  {
   "cell_type": "code",
   "execution_count": 20,
   "metadata": {
    "ExecuteTime": {
     "end_time": "2020-09-27T18:11:00.955028Z",
     "start_time": "2020-09-27T18:11:00.922299Z"
    }
   },
   "outputs": [
    {
     "data": {
      "text/html": [
       "<div>\n",
       "<style scoped>\n",
       "    .dataframe tbody tr th:only-of-type {\n",
       "        vertical-align: middle;\n",
       "    }\n",
       "\n",
       "    .dataframe tbody tr th {\n",
       "        vertical-align: top;\n",
       "    }\n",
       "\n",
       "    .dataframe thead th {\n",
       "        text-align: right;\n",
       "    }\n",
       "</style>\n",
       "<table border=\"1\" class=\"dataframe\">\n",
       "  <thead>\n",
       "    <tr style=\"text-align: right;\">\n",
       "      <th></th>\n",
       "      <th>artists</th>\n",
       "      <th>name</th>\n",
       "      <th>popularity</th>\n",
       "      <th>year</th>\n",
       "    </tr>\n",
       "    <tr>\n",
       "      <th>acousticness</th>\n",
       "      <th></th>\n",
       "      <th></th>\n",
       "      <th></th>\n",
       "      <th></th>\n",
       "    </tr>\n",
       "  </thead>\n",
       "  <tbody>\n",
       "    <tr>\n",
       "      <th>0.0339</th>\n",
       "      <td>['The Beatles']</td>\n",
       "      <td>Here Comes The Sun - Remastered 2009</td>\n",
       "      <td>83</td>\n",
       "      <td>1969</td>\n",
       "    </tr>\n",
       "  </tbody>\n",
       "</table>\n",
       "</div>"
      ],
      "text/plain": [
       "                      artists                                  name  \\\n",
       "acousticness                                                          \n",
       "0.0339        ['The Beatles']  Here Comes The Sun - Remastered 2009   \n",
       "\n",
       "              popularity  year  \n",
       "acousticness                    \n",
       "0.0339                83  1969  "
      ]
     },
     "execution_count": 20,
     "metadata": {},
     "output_type": "execute_result"
    }
   ],
   "source": [
    "twentys_century_df.nlargest(1, \"popularity\")[['artists', 'name', 'popularity', 'year']]"
   ]
  },
  {
   "cell_type": "markdown",
   "metadata": {},
   "source": [
    "## 12. Can you plot the distribution of `popularity`?"
   ]
  },
  {
   "cell_type": "code",
   "execution_count": null,
   "metadata": {},
   "outputs": [],
   "source": [
    "# Your code goes here 💪"
   ]
  },
  {
   "cell_type": "code",
   "execution_count": 21,
   "metadata": {
    "ExecuteTime": {
     "end_time": "2020-09-27T18:11:01.174444Z",
     "start_time": "2020-09-27T18:11:00.956843Z"
    }
   },
   "outputs": [
    {
     "data": {
      "text/plain": [
       "<matplotlib.axes._subplots.AxesSubplot at 0x127e7a710>"
      ]
     },
     "execution_count": 21,
     "metadata": {},
     "output_type": "execute_result"
    },
    {
     "data": {
      "image/png": "[encoded data removed]",
      "text/plain": [
       "<Figure size 432x288 with 1 Axes>"
      ]
     },
     "metadata": {
      "needs_background": "light"
     },
     "output_type": "display_data"
    }
   ],
   "source": [
    "sns.distplot(df['popularity'])"
   ]
  },
  {
   "cell_type": "markdown",
   "metadata": {},
   "source": [
    "## 13. What are the top 10 artists in terms of number of songs?"
   ]
  },
  {
   "cell_type": "code",
   "execution_count": null,
   "metadata": {},
   "outputs": [],
   "source": [
    "# Your code goes here 💪"
   ]
  },
  {
   "cell_type": "code",
   "execution_count": 22,
   "metadata": {
    "ExecuteTime": {
     "end_time": "2020-09-27T18:11:01.216173Z",
     "start_time": "2020-09-27T18:11:01.176382Z"
    }
   },
   "outputs": [
    {
     "data": {
      "text/plain": [
       "['Эрнест Хемингуэй']      1215\n",
       "['Francisco Canaro']       938\n",
       "['Эрих Мария Ремарк']      781\n",
       "['Ignacio Corsini']        620\n",
       "['Frank Sinatra']          592\n",
       "['Bob Dylan']              539\n",
       "['The Rolling Stones']     512\n",
       "['Johnny Cash']            502\n",
       "['The Beach Boys']         491\n",
       "['Elvis Presley']          488\n",
       "Name: artists, dtype: int64"
      ]
     },
     "execution_count": 22,
     "metadata": {},
     "output_type": "execute_result"
    }
   ],
   "source": [
    "df[\"artists\"].value_counts().head(10)"
   ]
  },
  {
   "cell_type": "markdown",
   "metadata": {},
   "source": [
    "## 14 [Follow-up] can you make a bar chart out of this result?"
   ]
  },
  {
   "cell_type": "code",
   "execution_count": null,
   "metadata": {},
   "outputs": [],
   "source": [
    "# Your code goes here 💪"
   ]
  },
  {
   "cell_type": "code",
   "execution_count": 23,
   "metadata": {
    "ExecuteTime": {
     "end_time": "2020-09-27T18:11:01.404532Z",
     "start_time": "2020-09-27T18:11:01.218538Z"
    }
   },
   "outputs": [
    {
     "data": {
      "text/plain": [
       "<matplotlib.axes._subplots.AxesSubplot at 0x127fba810>"
      ]
     },
     "execution_count": 23,
     "metadata": {},
     "output_type": "execute_result"
    },
    {
     "data": {
      "image/png": "[encoded data removed]",
      "text/plain": [
       "<Figure size 432x288 with 1 Axes>"
      ]
     },
     "metadata": {
      "needs_background": "light"
     },
     "output_type": "display_data"
    }
   ],
   "source": [
    "df[\"artists\"].value_counts().head(10).plot(kind=\"bar\")"
   ]
  },
  {
   "cell_type": "markdown",
   "metadata": {},
   "source": [
    "## 13. How many songs by key?"
   ]
  },
  {
   "cell_type": "code",
   "execution_count": null,
   "metadata": {},
   "outputs": [],
   "source": [
    "# Your code goes here 💪"
   ]
  },
  {
   "cell_type": "code",
   "execution_count": 24,
   "metadata": {
    "ExecuteTime": {
     "end_time": "2020-09-27T18:11:01.413023Z",
     "start_time": "2020-09-27T18:11:01.406725Z"
    }
   },
   "outputs": [
    {
     "data": {
      "text/plain": [
       "0     21499\n",
       "7     20757\n",
       "2     18821\n",
       "9     17628\n",
       "5     16336\n",
       "4     12921\n",
       "1     12816\n",
       "10    12056\n",
       "8     10711\n",
       "11    10593\n",
       "6      8586\n",
       "3      7185\n",
       "Name: key, dtype: int64"
      ]
     },
     "execution_count": 24,
     "metadata": {},
     "output_type": "execute_result"
    }
   ],
   "source": [
    "df[\"key\"].value_counts()"
   ]
  },
  {
   "cell_type": "markdown",
   "metadata": {},
   "source": [
    "## 14. [Follow-up] Can you plot a bar chart using Seaborn? Make sure the keys are sorted in a descending order."
   ]
  },
  {
   "cell_type": "code",
   "execution_count": null,
   "metadata": {},
   "outputs": [],
   "source": [
    "# Your code goes here 💪"
   ]
  },
  {
   "cell_type": "code",
   "execution_count": 25,
   "metadata": {
    "ExecuteTime": {
     "end_time": "2020-09-27T18:11:01.570221Z",
     "start_time": "2020-09-27T18:11:01.418968Z"
    }
   },
   "outputs": [
    {
     "data": {
      "text/plain": [
       "<matplotlib.axes._subplots.AxesSubplot at 0x128052810>"
      ]
     },
     "execution_count": 25,
     "metadata": {},
     "output_type": "execute_result"
    },
    {
     "data": {
      "image/png": "[encoded data removed]",
      "text/plain": [
       "<Figure size 432x288 with 1 Axes>"
      ]
     },
     "metadata": {
      "needs_background": "light"
     },
     "output_type": "display_data"
    }
   ],
   "source": [
    "sns.countplot(data=df, x=\"key\")"
   ]
  },
  {
   "cell_type": "code",
   "execution_count": 26,
   "metadata": {
    "ExecuteTime": {
     "end_time": "2020-09-27T18:11:01.580763Z",
     "start_time": "2020-09-27T18:11:01.574292Z"
    }
   },
   "outputs": [
    {
     "data": {
      "text/plain": [
       "Int64Index([0, 7, 2, 9, 5, 4, 1, 10, 8, 11, 6, 3], dtype='int64')"
      ]
     },
     "execution_count": 26,
     "metadata": {},
     "output_type": "execute_result"
    }
   ],
   "source": [
    "order = df[\"key\"].value_counts().index\n",
    "order"
   ]
  },
  {
   "cell_type": "code",
   "execution_count": 27,
   "metadata": {
    "ExecuteTime": {
     "end_time": "2020-09-27T18:11:01.731365Z",
     "start_time": "2020-09-27T18:11:01.582123Z"
    }
   },
   "outputs": [
    {
     "data": {
      "text/plain": [
       "<matplotlib.axes._subplots.AxesSubplot at 0x128107190>"
      ]
     },
     "execution_count": 27,
     "metadata": {},
     "output_type": "execute_result"
    },
    {
     "data": {
      "image/png": "[encoded data removed]",
      "text/plain": [
       "<Figure size 432x288 with 1 Axes>"
      ]
     },
     "metadata": {
      "needs_background": "light"
     },
     "output_type": "display_data"
    }
   ],
   "source": [
    "sns.countplot(data=df, x=\"key\", order=order)"
   ]
  },
  {
   "cell_type": "markdown",
   "metadata": {},
   "source": [
    "## 15. Can you plot a line graph representing the annual number of songs since ???"
   ]
  },
  {
   "cell_type": "code",
   "execution_count": null,
   "metadata": {},
   "outputs": [],
   "source": [
    "# Your code goes here 💪"
   ]
  },
  {
   "cell_type": "code",
   "execution_count": 28,
   "metadata": {
    "ExecuteTime": {
     "end_time": "2020-09-27T18:11:02.540762Z",
     "start_time": "2020-09-27T18:11:01.733871Z"
    }
   },
   "outputs": [
    {
     "data": {
      "text/plain": [
       "<matplotlib.axes._subplots.AxesSubplot at 0x127c733d0>"
      ]
     },
     "execution_count": 28,
     "metadata": {},
     "output_type": "execute_result"
    },
    {
     "data": {
      "image/png": "[encoded data removed]",
      "text/plain": [
       "<Figure size 432x288 with 1 Axes>"
      ]
     },
     "metadata": {
      "needs_background": "light"
     },
     "output_type": "display_data"
    }
   ],
   "source": [
    "sns.countplot(data=df, x='year')"
   ]
  },
  {
   "cell_type": "markdown",
   "metadata": {},
   "source": [
    "à voir ce qu'on peu faire sans un group by"
   ]
  },
  {
   "cell_type": "markdown",
   "metadata": {},
   "source": [
    "## 16. Can you visually check if there is relationship between `year` and `popularity`?"
   ]
  },
  {
   "cell_type": "code",
   "execution_count": null,
   "metadata": {},
   "outputs": [],
   "source": [
    "# Your code goes here 💪"
   ]
  },
  {
   "cell_type": "code",
   "execution_count": 29,
   "metadata": {
    "ExecuteTime": {
     "end_time": "2020-09-27T18:11:02.884684Z",
     "start_time": "2020-09-27T18:11:02.542872Z"
    }
   },
   "outputs": [
    {
     "data": {
      "text/plain": [
       "<matplotlib.axes._subplots.AxesSubplot at 0x12847f550>"
      ]
     },
     "execution_count": 29,
     "metadata": {},
     "output_type": "execute_result"
    },
    {
     "data": {
      "image/png": "[encoded data removed]",
      "text/plain": [
       "<Figure size 432x288 with 1 Axes>"
      ]
     },
     "metadata": {
      "needs_background": "light"
     },
     "output_type": "display_data"
    }
   ],
   "source": [
    "df.plot(kind='scatter', x='year', y='popularity')"
   ]
  },
  {
   "cell_type": "markdown",
   "metadata": {},
   "source": [
    "It seems that the popularity score has increased through time...."
   ]
  },
  {
   "cell_type": "code",
   "execution_count": null,
   "metadata": {},
   "outputs": [],
   "source": []
  },
  {
   "cell_type": "code",
   "execution_count": null,
   "metadata": {},
   "outputs": [],
   "source": []
  }
 ],
 "metadata": {
  "kernelspec": {
   "display_name": "Python 3",
   "language": "python",
   "name": "python3"
  },
  "language_info": {
   "codemirror_mode": {
    "name": "ipython",
    "version": 3
   },
   "file_extension": ".py",
   "mimetype": "text/x-python",
   "name": "python",
   "nbconvert_exporter": "python",
   "pygments_lexer": "ipython3",
   "version": "3.7.1"
  },
  "toc": {
   "base_numbering": 1,
   "nav_menu": {},
   "number_sections": true,
   "sideBar": true,
   "skip_h1_title": false,
   "title_cell": "Table of Contents",
   "title_sidebar": "Contents",
   "toc_cell": false,
   "toc_position": {},
   "toc_section_display": true,
   "toc_window_display": false
  },
  "varInspector": {
   "cols": {
    "lenName": 16,
    "lenType": 16,
    "lenVar": 40
   },
   "kernels_config": {
    "python": {
     "delete_cmd_postfix": "",
     "delete_cmd_prefix": "del ",
     "library": "var_list.py",
     "varRefreshCmd": "print(var_dic_list())"
    },
    "r": {
     "delete_cmd_postfix": ") ",
     "delete_cmd_prefix": "rm(",
     "library": "var_list.r",
     "varRefreshCmd": "cat(var_dic_list()) "
    }
   },
   "types_to_exclude": [
    "module",
    "function",
    "builtin_function_or_method",
    "instance",
    "_Feature"
   ],
   "window_display": false
  }
 },
 "nbformat": 4,
 "nbformat_minor": 4
}
